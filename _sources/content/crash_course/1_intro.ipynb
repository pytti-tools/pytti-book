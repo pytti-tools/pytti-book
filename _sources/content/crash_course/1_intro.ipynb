{
 "cells": [
  {
   "cell_type": "markdown",
   "id": "e7b76402",
   "metadata": {},
   "source": [
    "# PyTTI (local) Crash Course - maybe\n",
    "\n",
    "To get started in google colab, just follow the instructions in the notebook. Running PyTTI with the yaml config system is a bit more DIY, so we'll walk through that here. If you're planning on only ever using the UI in the colab notebook, you might still find this demo useful to better understand how different settings impact the image generation process.\n",
    "\n",
    "We'll start by doing a kind of \"factory reset\"  by deleting a few folders. You don't necessarily need to do this, but for the purpose of the demo we'll make sure we've got a clean workspace. Make sure you've moved or copied anything you want to hold on to before deleting.\n",
    "\n",
    "foobar"
   ]
  },
  {
   "cell_type": "code",
   "execution_count": 1,
   "id": "87bc275e",
   "metadata": {},
   "outputs": [],
   "source": [
    "%%capture\n",
    "print(\"foobar\")\n",
    "# these will be rebuilt when we generate images\n",
    "!rm -rf images_out/\n",
    "!rm -rf outputs/\n",
    "!rm -rf logs/\n",
    "!rm -rf backup/\n",
    "!rm -rf multirun/\n",
    "\n",
    "# this will be rebuild when we run pytti.warmup\n",
    "!rm -rf config/"
   ]
  },
  {
   "cell_type": "markdown",
   "id": "13b949e3",
   "metadata": {},
   "source": [
    "The next cell just creates the default configs and folders if they aren't already present."
   ]
  },
  {
   "cell_type": "code",
   "execution_count": 2,
   "id": "61623389",
   "metadata": {},
   "outputs": [
    {
     "name": "stdout",
     "output_type": "stream",
     "text": [
      "\u001b[32m2022-03-21 15:25:00.091\u001b[0m | \u001b[34m\u001b[1mDEBUG   \u001b[0m | \u001b[36mpytti.warmup\u001b[0m:\u001b[36m<module>\u001b[0m:\u001b[36m13\u001b[0m - \u001b[34m\u001b[1m/home/dmarx/miniconda3/envs/sandbox/lib/python3.9/site-packages/pytti\u001b[0m\r\n",
      "\u001b[32m2022-03-21 15:25:00.091\u001b[0m | \u001b[34m\u001b[1mDEBUG   \u001b[0m | \u001b[36mpytti.warmup\u001b[0m:\u001b[36m<module>\u001b[0m:\u001b[36m27\u001b[0m - \u001b[34m\u001b[1m/home/dmarx/miniconda3/envs/sandbox/lib/python3.9/site-packages/pytti\u001b[0m\r\n",
      "\u001b[32m2022-03-21 15:25:00.091\u001b[0m | \u001b[1mINFO    \u001b[0m | \u001b[36mpytti.warmup\u001b[0m:\u001b[36mensure_configs_exist\u001b[0m:\u001b[36m45\u001b[0m - \u001b[1mLocal config directory not detected.\u001b[0m\r\n",
      "\u001b[32m2022-03-21 15:25:00.091\u001b[0m | \u001b[1mINFO    \u001b[0m | \u001b[36mpytti.warmup\u001b[0m:\u001b[36mensure_configs_exist\u001b[0m:\u001b[36m46\u001b[0m - \u001b[1mCreating local config directory with default and demo configs\u001b[0m\r\n"
     ]
    },
    {
     "name": "stdout",
     "output_type": "stream",
     "text": [
      "\u001b[32m2022-03-21 15:25:00.882\u001b[0m | \u001b[34m\u001b[1mDEBUG   \u001b[0m | \u001b[36m__main__\u001b[0m:\u001b[36m<module>\u001b[0m:\u001b[36m13\u001b[0m - \u001b[34m\u001b[1m/home/dmarx/miniconda3/envs/sandbox/lib/python3.9/site-packages/pytti\u001b[0m\r\n",
      "\u001b[32m2022-03-21 15:25:00.882\u001b[0m | \u001b[34m\u001b[1mDEBUG   \u001b[0m | \u001b[36m__main__\u001b[0m:\u001b[36m<module>\u001b[0m:\u001b[36m27\u001b[0m - \u001b[34m\u001b[1m/home/dmarx/miniconda3/envs/sandbox/lib/python3.9/site-packages/pytti\u001b[0m\r\n"
     ]
    }
   ],
   "source": [
    "# Rebuild config files using \"factory defaults\"\n",
    "!python -m pytti.warmup"
   ]
  },
  {
   "cell_type": "markdown",
   "id": "10aafdf2",
   "metadata": {},
   "source": [
    "Those outputs there are normal logging messages. We'll suppress those in subsequent cells to make this tutorial easier to read by adding `%%capture` to the tops of cells where we're running pytti. This will also suppress displaying image frames and reporting loss values, so unless you're tracking your experiment extrnally with tensorboard (or even just watching the images pop up as thumbnails in a file browser), you probably won't want to suppress the notebook outputs like this."
   ]
  }
 ],
 "metadata": {
  "jupytext": {
   "formats": "md:myst",
   "text_representation": {
    "extension": ".md",
    "format_name": "myst"
   }
  },
  "kernelspec": {
   "display_name": "Python 3",
   "language": "python",
   "name": "python3"
  },
  "language_info": {
   "codemirror_mode": {
    "name": "ipython",
    "version": 3
   },
   "file_extension": ".py",
   "mimetype": "text/x-python",
   "name": "python",
   "nbconvert_exporter": "python",
   "pygments_lexer": "ipython3",
   "version": "3.9.9"
  },
  "source_map": [
   11,
   21,
   33,
   38,
   41
  ]
 },
 "nbformat": 4,
 "nbformat_minor": 5
}